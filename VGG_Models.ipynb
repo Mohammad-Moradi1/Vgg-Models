{
  "nbformat": 4,
  "nbformat_minor": 0,
  "metadata": {
    "colab": {
      "provenance": [],
      "authorship_tag": "ABX9TyPVoJi91oncGbRcILE2yQoP",
      "include_colab_link": true
    },
    "kernelspec": {
      "name": "python3",
      "display_name": "Python 3"
    },
    "language_info": {
      "name": "python"
    }
  },
  "cells": [
    {
      "cell_type": "markdown",
      "metadata": {
        "id": "view-in-github",
        "colab_type": "text"
      },
      "source": [
        "<a href=\"https://colab.research.google.com/github/Mohammad-Moradi1/Vgg-Models/blob/main/VGG_Models.ipynb\" target=\"_parent\"><img src=\"https://colab.research.google.com/assets/colab-badge.svg\" alt=\"Open In Colab\"/></a>"
      ]
    },
    {
      "cell_type": "code",
      "execution_count": 1,
      "metadata": {
        "id": "7vPt2eZpbhcW"
      },
      "outputs": [],
      "source": [
        "\"\"\"\n",
        "Implementation of the VGG model, inspired by the architecture proposed in:\n",
        "Karen Simonyan, Andrew Zisserman, \"Very Deep Convolutional Networks for Large-Scale Image Recognition.\"\n",
        "Paper: https://arxiv.org/abs/1409.1556v6\n",
        "\n",
        "This implementation is based on the PyTorch replication available at:\n",
        "https://github.com/weiaicunzai/pytorch-cifar100/\n",
        "\"\"\"\n",
        "\n",
        "\n",
        "import torch\n",
        "import torch.nn as nn\n",
        "\n",
        "cfg = {\n",
        "    'A' : [64,     'M', 128,      'M', 256, 256,           'M', 512, 512,           'M', 512, 512,           'M'],\n",
        "    'B' : [64, 64, 'M', 128, 128, 'M', 256, 256,           'M', 512, 512,           'M', 512, 512,           'M'],\n",
        "    'D' : [64, 64, 'M', 128, 128, 'M', 256, 256, 256,      'M', 512, 512, 512,      'M', 512, 512, 512,      'M'],\n",
        "    'E' : [64, 64, 'M', 128, 128, 'M', 256, 256, 256, 256, 'M', 512, 512, 512, 512, 'M', 512, 512, 512, 512, 'M']\n",
        "}\n",
        "\n",
        "class VGG(nn.Module):\n",
        "\n",
        "    def __init__(self, features, num_class=100):\n",
        "        super().__init__()\n",
        "        self.features = features\n",
        "\n",
        "        self.classifier = nn.Sequential(\n",
        "            nn.Linear(512, 4096),\n",
        "            nn.ReLU(inplace=True),\n",
        "            nn.Dropout(),\n",
        "            nn.Linear(4096, 4096),\n",
        "            nn.ReLU(inplace=True),\n",
        "            nn.Dropout(),\n",
        "            nn.Linear(4096, num_class)\n",
        "        )\n",
        "\n",
        "    def forward(self, x):\n",
        "        output = self.features(x)\n",
        "        output = output.view(output.size()[0], -1)\n",
        "        output = self.classifier(output)\n",
        "\n",
        "        return output\n",
        "\n",
        "def make_layers(cfg, batch_norm=False, in_channels=3):\n",
        "    layers = []\n",
        "\n",
        "    input_channel = in_channels\n",
        "    for l in cfg:\n",
        "        if l == 'M':\n",
        "            layers += [nn.MaxPool2d(kernel_size=2, stride=2)]\n",
        "            continue\n",
        "\n",
        "        layers += [nn.Conv2d(input_channel, l, kernel_size=3, padding=1)]\n",
        "\n",
        "        if batch_norm:\n",
        "            layers += [nn.BatchNorm2d(l)]\n",
        "\n",
        "        layers += [nn.ReLU(inplace=True)]\n",
        "        input_channel = l\n",
        "\n",
        "    return nn.Sequential(*layers)\n",
        "\n",
        "def vgg11(in_channels: int, num_class: int):\n",
        "    return VGG(make_layers(cfg['A'], batch_norm=True, in_channels=in_channels), num_class)\n",
        "\n",
        "def vgg13(in_channels: int, num_class: int):\n",
        "    return VGG(make_layers(cfg['B'], batch_norm=True, in_channels=in_channels), num_class)\n",
        "\n",
        "def vgg16(in_channels: int, num_class: int):\n",
        "    return VGG(make_layers(cfg['D'], batch_norm=True, in_channels=in_channels), num_class)\n",
        "\n",
        "def vgg19(in_channels: int, num_class: int):\n",
        "    return VGG(make_layers(cfg['E'], batch_norm=True, in_channels=in_channels), num_class)\n"
      ]
    }
  ]
}